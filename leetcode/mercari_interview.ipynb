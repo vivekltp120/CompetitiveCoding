{
 "cells": [
  {
   "cell_type": "code",
   "execution_count": null,
   "id": "add1a00e-f310-47de-8e34-f25be5b8fb0f",
   "metadata": {},
   "outputs": [],
   "source": [
    "from collections import defaultdict\n",
    "class Station:\n",
    "    def __init__(self):\n",
    "        self.station_info=defaultdict(dict)\n",
    "    def check_in(self,id:int,st_name:str,check_in:int):\n",
    "        self.station_info[st_name][id]=[check_in,0]}\n",
    "    def check_out(self,id:int,st_name:str,check_in:int):\n",
    "        self.station_info[st_name][id]=[0,chekout]        \n",
    "    def avg_time(self,source_st:str,dest_st:str):\n",
    "        user_source=self.station_info[source_st]\n",
    "        user_dest=self.station_info[dest_st]\n",
    "        count=0\n",
    "        time=0\n",
    "        for key,time in user_source.item():\n",
    "            if key in user_dest.item():\n",
    "               time+=user_dest[key][1]-user_source[key][0]\n",
    "               count+=1 \n",
    "        if count==0:\n",
    "            return -1\n",
    "        else:    \n",
    "            average_time=time/count\n",
    "            return average_time\n",
    "# id 45 A:[2,0]  B:[0,5]\n",
    "     0-0\n",
    "                \n",
    "        \n",
    "        \n",
    "            \n",
    "        \n",
    "        \n",
    "        \n",
    "        "
   ]
  },
  {
   "cell_type": "code",
   "execution_count": null,
   "id": "892cec30-81a9-47b1-b207-c57cdb4004ed",
   "metadata": {},
   "outputs": [],
   "source": [
    "import random\n",
    "import defaultdict\n",
    "class URLShortener:\n",
    "    def __init__(self):\n",
    "        self.url_dict={}\n",
    "        self.url_ls={}\n",
    "        self.click_count=defaultdict(0)\n",
    "    def short_url(long_url:str)->int:\n",
    "        if long_url in self.url_ls.keys():\n",
    "            return self.url_ls[long_url]    \n",
    "        short_url=random.randrange(1,10000)  \n",
    "        self.url_dict={short_url:long_url}\n",
    "        self.url_ls={long_url:short_url}\n",
    "        return short_url\n",
    "    def expand_url(short_url:str)-> int:\n",
    "        self.click_count[short_url]+=1\n",
    "        return self.url_dict.get(short_url)\n",
    "    def getClickCount(self,url:str)->int:\n",
    "        return self.click_count[url]\n",
    "        \n",
    "        \n",
    "        \n",
    "       "
   ]
  }
 ],
 "metadata": {
  "kernelspec": {
   "display_name": "aiml_venv",
   "language": "python",
   "name": "aiml_venv"
  },
  "language_info": {
   "codemirror_mode": {
    "name": "ipython",
    "version": 3
   },
   "file_extension": ".py",
   "mimetype": "text/x-python",
   "name": "python",
   "nbconvert_exporter": "python",
   "pygments_lexer": "ipython3",
   "version": "3.13.3"
  }
 },
 "nbformat": 4,
 "nbformat_minor": 5
}
