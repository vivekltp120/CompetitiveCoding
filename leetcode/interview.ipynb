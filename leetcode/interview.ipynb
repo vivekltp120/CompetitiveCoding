{
 "cells": [
  {
   "cell_type": "code",
   "execution_count": null,
   "id": "ecaf625b-1dc4-4b99-a647-c448ba00ce10",
   "metadata": {},
   "outputs": [],
   "source": []
  }
 ],
 "metadata": {
  "kernelspec": {
   "display_name": "aiml_venv",
   "language": "python",
   "name": "aiml_venv"
  },
  "language_info": {
   "codemirror_mode": {
    "name": "ipython",
    "version": 3
   },
   "file_extension": ".py",
   "mimetype": "text/x-python",
   "name": "python",
   "nbconvert_exporter": "python",
   "pygments_lexer": "ipython3",
   "version": "3.13.3"
  }
 },
 "nbformat": 4,
 "nbformat_minor": 5
}
