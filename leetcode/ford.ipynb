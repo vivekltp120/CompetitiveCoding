{
 "cells": [
  {
   "cell_type": "code",
   "execution_count": 16,
   "id": "9f1e0023-1db6-4828-a684-baef5ddabebe",
   "metadata": {},
   "outputs": [
    {
     "name": "stdout",
     "output_type": "stream",
     "text": [
      "[0.09, 0.245, 0.665]\n",
      "[0.09, 0.245, 0.665]\n",
      "[0.333, 0.333, 0.333]\n",
      "[0.533, 0.239, 0.228]\n"
     ]
    }
   ],
   "source": [
    "import math\n",
    "from typing import List\n",
    "\n",
    "def softmax(x: List[float]) -> List[float]:\n",
    "    \"\"\"\n",
    "    Compute the softmax of a list of numbers.\n",
    "\n",
    "    Args:\n",
    "        x: List of real numbers\n",
    "        \n",
    "\n",
    "    Returns:\n",
    "        List of probabilities that sum to 1.0\n",
    "    \"\"\"\n",
    "    #TODO\n",
    "    class_prob=[math.exp(p) for p in x]\n",
    "    result=[round(y/sum(class_prob),3) for y in class_prob] \n",
    "    return result\n",
    "\n",
    "\n",
    "if __name__ == \"__main__\":\n",
    "    # Test cases\n",
    "    print(softmax([1, 2, 3]))       # ≈ [0.090, 0.245, 0.665]\n",
    "    print(softmax([-1, 0, 1]))      # ≈ [0.090, 0.245, 0.665]\n",
    "    print(softmax([2, 2, 2]))       # [0.333, 0.333, 0.333]\n",
    "    print(softmax([0.9, 0.1, 0.05])) # ≈ [0.506, 0.277, 0.217] "
   ]
  },
  {
   "cell_type": "code",
   "execution_count": null,
   "id": "a2b378a0-4451-4605-ab24-1b8ff61ae459",
   "metadata": {},
   "outputs": [],
   "source": [
    "\n",
    "def leaf_node(root):\n",
    "    if root.left==None and root.right==None:\n",
    "        return 1\n",
    "    if root.left:\n",
    "        left=leaf_node(root.left)\n",
    "    if root.right:\n",
    "        right=leaf_node(root.right)\n",
    "    return left+right \n",
    "    \n",
    "        \n",
    "    \n",
    "    "
   ]
  }
 ],
 "metadata": {
  "kernelspec": {
   "display_name": "aiml_venv",
   "language": "python",
   "name": "aiml_venv"
  },
  "language_info": {
   "codemirror_mode": {
    "name": "ipython",
    "version": 3
   },
   "file_extension": ".py",
   "mimetype": "text/x-python",
   "name": "python",
   "nbconvert_exporter": "python",
   "pygments_lexer": "ipython3",
   "version": "3.13.3"
  }
 },
 "nbformat": 4,
 "nbformat_minor": 5
}
