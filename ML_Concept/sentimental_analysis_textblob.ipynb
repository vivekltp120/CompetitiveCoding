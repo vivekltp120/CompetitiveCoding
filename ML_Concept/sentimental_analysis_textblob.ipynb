{
 "cells": [
  {
   "cell_type": "code",
   "execution_count": 4,
   "metadata": {
    "collapsed": false
   },
   "outputs": [
    {
     "name": "stdout",
     "output_type": "stream",
     "text": [
      "Feed - food is worst in the barbeque\nSentiment -Sentiment(polarity=-1.0, subjectivity=1.0)\nTranslate into hindi --  बार्बेक्यू में भोजन सबसे खराब है\nTagging -- [('food', 'NN'), ('is', 'VBZ'), ('worst', 'RB'), ('in', 'IN'), ('the', 'DT'), ('barbeque', 'NN')]\n\n\n\nFeed -  Other resturent in this aea have better food\nSentiment -Sentiment(polarity=0.1875, subjectivity=0.4375)\n"
     ]
    },
    {
     "name": "stdout",
     "output_type": "stream",
     "text": [
      "Translate into hindi --  इस आस में अन्य संयम भोजन बेहतर है\nTagging -- [('Other', 'JJ'), ('resturent', 'NN'), ('in', 'IN'), ('this', 'DT'), ('aea', 'NN'), ('have', 'VBP'), ('better', 'VBN'), ('food', 'NN')]\n\n\n\nFeed -  Movie is not great but one time wacth\nSentiment -Sentiment(polarity=-0.4, subjectivity=0.75)\nTranslate into hindi --  मूवी महान नहीं है, लेकिन एक समय की है\nTagging -- [('Movie', 'NNP'), ('is', 'VBZ'), ('not', 'RB'), ('great', 'JJ'), ('but', 'CC'), ('one', 'CD'), ('time', 'NN'), ('wacth', 'NN')]\n\n\n\nWords-['food', 'is', 'worst', 'in', 'the', 'barbeque', 'Other', 'resturent', 'in', 'this', 'aea', 'have', 'better', 'food', 'Movie', 'is', 'not', 'great', 'but', 'one', 'time', 'wacth']\nSentences-[Sentence(\"food is worst in the barbeque.\"), Sentence(\"Other resturent in this aea have better food.\"), Sentence(\"Movie is not great but one time wacth\")]\nplural to singular-['food', 'is', 'worst', 'in', 'the', 'barbeque', 'Other', 'resturent', 'in', 'thi', 'aea', 'have', 'better', 'food', 'Movie', 'is', 'not', 'great', 'but', 'one', 'time', 'wacth']\nlemmetizer-['food', 'is', 'worst', 'in', 'the', 'barbeque', 'Other', 'resturent', 'in', 'this', 'aea', 'have', 'better', 'food', 'Movie', 'is', 'not', 'great', 'but', 'one', 'time', 'wacth']\nstemmizer-['food', 'is', 'worst', 'in', 'the', 'barbequ', 'other', 'restur', 'in', 'thi', 'aea', 'have', 'better', 'food', 'movi', 'is', 'not', 'great', 'but', 'one', 'time', 'wacth']\n"
     ]
    },
    {
     "name": "stdout",
     "output_type": "stream",
     "text": [
      "spell correcter-food is worst in the barque. Other restaurant in this area have better food. Movie is not great but one time watch\n\n\n\n"
     ]
    },
    {
     "name": "stdout",
     "output_type": "stream",
     "text": [
      "tokenizer-['food', 'is', 'worst', 'in', 'the', 'barque', '.', 'Other', 'restaurant', 'in', 'this', 'area', 'have', 'better', 'food', '.', 'Movie', 'is', 'not', 'great', 'but', 'one', 'time', 'watch']\n"
     ]
    }
   ],
   "source": [
    "from textblob import TextBlob\n",
    "import textblob\n",
    "sent='food is worst in the barbeque. Other resturent in this aea have better food. Movie is not great but one time wacth'\n",
    "for feed in sent.split('.'): \n",
    "  tbresult=TextBlob(feed)\n",
    "  print('Feed - '+ feed)\n",
    "  print('Sentiment -'+str(tbresult.sentiment))\n",
    "  print('Translate into hindi --  %s'%(tbresult.translate(to='hi')))\n",
    "  print('Tagging -- %s'%(tbresult.tags))\n",
    "  print('\\n\\n')\n",
    "\n",
    "#collectively  \n",
    "tb=TextBlob(sent)\n",
    "print('Words-'+str(tb.words))\n",
    "print('Sentences-'+str(tb.sentences))\n",
    "print('plural to singular-'+str(tb.words.singularize()))\n",
    "print('lemmetizer-'+str(tb.words.lemmatize()))\n",
    "print('stemmizer-'+str(tb.words.stem()))\n",
    "print('spell correcter-'+str(tb.correct()))\n",
    "print('\\n\\n')\n",
    "\n",
    "#tokenizer object\n",
    "\n",
    "tokenizer=tb.correct().tokenize()\n",
    "print('tokenizer-'+str(tokenizer))\n",
    "\n",
    "    \n",
    "    \n",
    "\n",
    "\n"
   ]
  },
  {
   "cell_type": "code",
   "execution_count": 1,
   "metadata": {},
   "outputs": [],
   "source": []
  },
  {
   "cell_type": "code",
   "execution_count": null,
   "metadata": {},
   "outputs": [],
   "source": []
  }
 ],
 "metadata": {
  "kernelspec": {
   "display_name": "Python 2",
   "language": "python",
   "name": "python2"
  },
  "language_info": {
   "codemirror_mode": {
    "name": "ipython",
    "version": 2
   },
   "file_extension": ".py",
   "mimetype": "text/x-python",
   "name": "python",
   "nbconvert_exporter": "python",
   "pygments_lexer": "ipython2",
   "version": "2.7.6"
  }
 },
 "nbformat": 4,
 "nbformat_minor": 0
}
