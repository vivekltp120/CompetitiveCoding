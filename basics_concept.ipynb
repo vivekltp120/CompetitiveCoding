{
 "cells": [
  {
   "cell_type": "code",
   "execution_count": null,
   "metadata": {
    "collapsed": true
   },
   "outputs": [
    {
     "name": "stdout",
     "output_type": "stream",
     "text": [
      "This id is for the python interpreter\nThis id is for the python interpreter\n"
     ]
    }
   ],
   "source": [
    "%matplotlib inline\n",
    "\n",
    "print('This id is for the python interpreter')\n",
    "print('This id is for the python interpreter')"
   ]
  },
  {
   "cell_type": "code",
   "execution_count": null,
   "metadata": {},
   "outputs": [
    {
     "name": "stdout",
     "output_type": "stream",
     "text": [
      "{0: [1, 2, 3, 4, 5, 6, 7, 8]}\ndefaultdict(<class 'list'>, {0: [[1, 2, 3, 4, 5, 6, 7, 8]], 1: [[1, 2, 3, 4, 5, 6, 7, 8]], 2: [[1, 2, 3, 4, 5, 6, 7, 8]]})\n"
     ]
    }
   ],
   "source": [
    "from collections import defaultdict\n",
    "l=[1,2,3,4,5,6,7,8]\n",
    "adjlist={}\n",
    "adjlist[0]=l\n",
    "print(adjlist)\n",
    "dd=defaultdict(list)\n",
    "dd[0].append(l)\n",
    "dd[1].append(l)\n",
    "dd[2].append(l)\n",
    "print(dd)\n"
   ]
  },
  {
   "cell_type": "code",
   "execution_count": 8,
   "metadata": {},
   "outputs": [
    {
     "name": "stdout",
     "output_type": "stream",
     "text": [
      "0\n"
     ]
    }
   ],
   "source": [
    "a =[1,2,3,4,5]\n",
    "max(a[0:3])\n",
    "for i in range(0,1):\n",
    "    print(i)\n",
    "    \n"
   ]
  },
  {
   "cell_type": "code",
   "execution_count": 4,
   "metadata": {},
   "outputs": [
    {
     "data": {
      "text/plain": [
       "9"
      ]
     },
     "execution_count": 4,
     "metadata": {},
     "output_type": "execute_result"
    }
   ],
   "source": [
    "max([1,3,6,7,8,9])"
   ]
  },
  {
   "cell_type": "code",
   "execution_count": 30,
   "metadata": {
    "collapsed": false
   },
   "outputs": [
    {
     "name": "stdout",
     "output_type": "stream",
     "text": [
      "['radhe', 'vivek', 'shyam', 'ram']\n"
     ]
    },
    {
     "data": {
      "text/plain": [
       "'radhe'"
      ]
     },
     "execution_count": 30,
     "metadata": {},
     "output_type": "execute_result"
    }
   ],
   "source": [
    "a=[[1,2],[3,4,5,6]]\n",
    "a.pop()\n",
    "a.extend(a.pop())\n",
    "a.remove(1)\n",
    "a.extend([3,4,5,6])\n",
    "\n",
    "b=['ram','shyam','vivek','radhe']\n",
    "b.index('shyam')\n",
    "\n",
    "b.__sizeof__()\n",
    "b.__iter__()\n",
    "rev=[x for x in b.__reversed__()]\n",
    "print(rev)\n",
    "b.pop()\n"
   ]
  },
  {
   "cell_type": "code",
   "execution_count": 13,
   "metadata": {},
   "outputs": [
    {
     "name": "stdout",
     "output_type": "stream",
     "text": [
      "['This is the case', 'This is my india']\n"
     ]
    }
   ],
   "source": [
    "a=['This is the case','This is my india']\n",
    "print(a)"
   ]
  },
  {
   "cell_type": "code",
   "execution_count": 4,
   "metadata": {},
   "outputs": [
    {
     "name": "stdout",
     "output_type": "stream",
     "text": [
      "{0: 'ram', 1: 'shyam', 2: 'hanuman', 3: 'shyam'}\n<class 'dict'>\n"
     ]
    },
    {
     "data": {
      "text/plain": [
       "'ram'"
      ]
     },
     "execution_count": 4,
     "metadata": {},
     "output_type": "execute_result"
    }
   ],
   "source": [
    "a={0:'ram',1:'shyam',2:'hanuman',3:'shyam'}\n",
    "print(a)\n",
    "print(type(a))\n",
    "# a.remove('shyam')\n",
    "a[0]"
   ]
  },
  {
   "cell_type": "code",
   "execution_count": 3,
   "metadata": {},
   "outputs": [
    {
     "data": {
      "text/plain": [
       "2"
      ]
     },
     "execution_count": 3,
     "metadata": {},
     "output_type": "execute_result"
    }
   ],
   "source": [
    "name='vivek'\n",
    "name.count('v')\n"
   ]
  },
  {
   "cell_type": "code",
   "execution_count": 16,
   "metadata": {},
   "outputs": [
    {
     "name": "stdout",
     "output_type": "stream",
     "text": [
      "10910368\n140247261134608\n140247261134608\n10910400\n140247261385872\n140247261385872\n10910432\n140247261316184\n140247261316184\n10910464\n140247261316184\n140247261316184\n"
     ]
    }
   ],
   "source": [
    "l=['a','b','c']\n",
    "# id('a')\n",
    "l.pop()\n",
    "l.append('c')\n",
    "l.insert(2,'c')\n",
    "\n",
    "for i in range(len((l))):\n",
    "    print(id(i))\n",
    "    print(id(l[i]))\n",
    "    print((id(l[i])))\n"
   ]
  },
  {
   "cell_type": "code",
   "execution_count": 6,
   "metadata": {},
   "outputs": [
    {
     "data": {
      "text/plain": [
       "<dllistnode(0)>"
      ]
     },
     "execution_count": 6,
     "metadata": {},
     "output_type": "execute_result"
    }
   ],
   "source": [
    "#doubly link l\n",
    "import llist\n",
    "dll=llist.dllist()\n",
    "dll.append(0)\n",
    "\n"
   ]
  },
  {
   "cell_type": "code",
   "execution_count": 11,
   "metadata": {},
   "outputs": [
    {
     "name": "stdout",
     "output_type": "stream",
     "text": [
      "[5403, 2651, 2754, 2399, 9932, 5060, 9676, 3368, 7739, 12, 6226, 8586, 8094, 7539, 795, 570, 1434, 378, 7467, 6601, 97, 2902, 3317, 492, 6652, 756, 7301, 280, 4286, 9441, 3865, 9689, 8444, 6619, 8440, 4729, 8031, 8117, 8097, 5771, 4481, 675, 709, 8927, 4567, 7856, 9497, 2353, 4586, 6965, 5306, 4683, 6219, 8624, 1528, 2871, 5732, 8829, 9503, 19, 8270, 3368, 9708, 6715, 6340, 8149, 7796, 723, 2618, 2245, 2846, 3451, 2921, 3555, 2379, 7488, 7764, 8228, 9841, 2350, 5193, 1500, 7034, 7764, 124]\n"
     ]
    }
   ],
   "source": [
    "#joining the string of numbers\n",
    "stock='886 2777 6915 7793 8335 5386 492 6649 1421 2362 27 8690 59 7763 3926 540 3426 9172 5736 5211 5368 2567 6429 5782 1530 2862 5123 4067 3135 3929 9802 4022 3058 3069 8167 1393 8456 5011 8042 6229 7373 4421 4919 3784 8537 5198 4324 8315 4370 6413 3526 6091 8980 9956 1873 6862 9170 6996 7281 2305 925 7084 6327 336 6505 846 1729 1313 5857 6124 3895 9582 545 8814 3367 5434 364 4043 3750 1087 6808 7276 7178 5788'\n",
    "stock1='5403 2651 2754 2399 9932 5060 9676 3368 7739 12 6226 8586 8094 7539 795 570 1434 378 7467 6601 97 2902 3317 492 6652 756 7301 280 4286 9441 3865 9689 8444 6619 8440 4729 8031 8117 8097 5771 4481 675 709 8927 4567 7856 9497 2353 4586 6965 5306 4683 6219 8624 1528 2871 5732 8829 9503 19 8270 3368 9708 6715 6340 8149 7796 723 2618 2245 2846 3451 2921 3555 2379 7488 7764 8228 9841 2350 5193 1500 7034 7764 124'\n",
    "stckprice=[int(i) for i in stock1.split()]\n",
    "print(stckprice)\n",
    "    \n"
   ]
  },
  {
   "cell_type": "code",
   "execution_count": 15,
   "metadata": {},
   "outputs": [],
   "source": [
    "x = range(10,-1)\n",
    "\n",
    "for n in x:\n",
    "  print(n,end=' ')\n"
   ]
  },
  {
   "cell_type": "code",
   "execution_count": 16,
   "metadata": {},
   "outputs": [
    {
     "name": "stdout",
     "output_type": "stream",
     "text": [
      "True\n"
     ]
    }
   ],
   "source": [
    "str1='(1 2) (3 4) (5 6) (7 8) (9 11) (15 16) (17 18) (20 22) (23 24) (25 26) (27 29) (30 31) (33 34) (35 37) (41 43) (44 46) (47 49) (51 53) (54 58) (59 60) (61 62) (64 65) (67 68) (69 71) (72 73) (74 78) (79 80) (81 83)'\n",
    "str2='(1 2) (3 4) (5 6) (7 8) (9 11) (15 16) (17 18) (20 22) (23 24) (25 26) (27 29) (30 31) (33 34) (35 37) (41 43) (44 46) (47 49) (51 53) (54 58) (59 60) (61 62) (64 65) (67 68) (69 71) (72 73) (74 78) (79 80) (81 83)'\n",
    "print(str1==str2)"
   ]
  },
  {
   "cell_type": "code",
   "execution_count": null,
   "metadata": {},
   "outputs": [
    {
     "name": "stdout",
     "output_type": "stream",
     "text": [
      "dict_items([(1, 9), (3, 4), (5, 6)])\n[1, 3, 5]\n[(3, 4), (5, 6), (1, 9)]\n[(1, 9), (3, 4), (5, 6)]\n"
     ]
    }
   ],
   "source": [
    "#dictionary operation sorting opeeration\n",
    "train={1:2,3:4,5:6,1:9}\n",
    "print(train.items())\n",
    "ttrain=list(train)\n",
    "\n",
    "print(ttrain)\n",
    "ntrain=(sorted(train.items(),key=lambda item:item[1]))\n",
    "print(ntrain)\n",
    "sorttuple=sorted(ntrain,key=lambda x:x[0])\n",
    "print(sorttuple)\n",
    "\n",
    "\n",
    "from operator import itemgetter\n",
    "\n",
    "sd=sorted(train.items(),key=itemgetter(0))\n",
    "\n",
    "\n",
    "\n"
   ]
  },
  {
   "cell_type": "code",
   "execution_count": null,
   "metadata": {},
   "outputs": [],
   "source": [
    "cook=['aa1','aa2','bb1','cc1']\n",
    "print('aa1' in cook)\n"
   ]
  },
  {
   "cell_type": "code",
   "execution_count": null,
   "metadata": {},
   "outputs": [],
   "source": []
  }
 ],
 "metadata": {
  "kernelspec": {
   "display_name": "Python 2",
   "language": "python",
   "name": "python2"
  },
  "language_info": {
   "codemirror_mode": {
    "name": "ipython",
    "version": 2
   },
   "file_extension": ".py",
   "mimetype": "text/x-python",
   "name": "python",
   "nbconvert_exporter": "python",
   "pygments_lexer": "ipython2",
   "version": "2.7.6"
  }
 },
 "nbformat": 4,
 "nbformat_minor": 0
}
