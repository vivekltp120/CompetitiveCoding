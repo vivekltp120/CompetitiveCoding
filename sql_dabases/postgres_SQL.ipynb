{
 "cells": [
  {
   "cell_type": "code",
   "execution_count": 60,
   "id": "b09d17bf-fffa-4610-b6ae-9f15af6971a6",
   "metadata": {},
   "outputs": [],
   "source": [
    "import psycopg2\n",
    "def get_connection():\n",
    "    try:\n",
    "        return psycopg2.connect(\n",
    "            database=\"vantika_birthday\",\n",
    "            user=\"postgres\",\n",
    "            password=\"iitg\",\n",
    "            host=\"127.0.0.1\",\n",
    "            port=5432,\n",
    "        )\n",
    "    except:\n",
    "        return False\n",
    "def close_conn():\n",
    "        # Close the connection\n",
    "    if cursor:\n",
    "        cursor.close()\n",
    "    if conn:\n",
    "        conn.close()"
   ]
  },
  {
   "cell_type": "code",
   "execution_count": 61,
   "id": "8df294ec-df30-4c53-8756-5267137ed33f",
   "metadata": {},
   "outputs": [
    {
     "name": "stdout",
     "output_type": "stream",
     "text": [
      "Connection to the PostgreSQL established successfully.\n"
     ]
    }
   ],
   "source": [
    "#create connection        \n",
    "conn = get_connection()\n",
    "if conn:\n",
    "    print(\"Connection to the PostgreSQL established successfully.\")\n",
    "else:\n",
    "    print(\"Connection to the PostgreSQL encountered and error.\")"
   ]
  },
  {
   "cell_type": "code",
   "execution_count": 62,
   "id": "036bbc54-d7a4-4552-8454-11ee981191e3",
   "metadata": {},
   "outputs": [
    {
     "name": "stdout",
     "output_type": "stream",
     "text": [
      "Error: relation \"invitee\" already exists\n",
      "\n"
     ]
    }
   ],
   "source": [
    "\n",
    "# EXECUTE THE SQL QUERY\n",
    "#Crete table for invited pepople\n",
    "# SQL query to create the table\n",
    "table_create_query = \"\"\"\n",
    "CREATE TABLE invitee (Id SERIAL PRIMARY KEY,\n",
    "    Name VARCHAR(100) NOT NULL,\n",
    "    Members INT,\n",
    "    Address VARCHAR(50),\n",
    "    City VARCHAR(30),\n",
    "    Mobile INT,\n",
    "    Category VARCHAR(30)\n",
    ");\n",
    "\"\"\"\n",
    "try:\n",
    "    # Connect to the database\n",
    "    # GET THE CONNECTION OBJECT\n",
    "    # CREATE A CURSOR USING THE CONNECTION OBJECT\n",
    "    cursor = conn.cursor()\n",
    "    # Execute the query\n",
    "    cursor.execute(table_create_query)\n",
    "    conn.commit()\n",
    "\n",
    "    print(\"Table 'invitee' created successfully.\")\n",
    "              \n",
    "except Exception as e:\n",
    "    print(f\"Error: {e}\")\n",
    "\n",
    "\n"
   ]
  },
  {
   "cell_type": "code",
   "execution_count": 63,
   "id": "85ca2cbe-7c3e-45d3-9389-3cb2e7a573f2",
   "metadata": {},
   "outputs": [
    {
     "ename": "InFailedSqlTransaction",
     "evalue": "current transaction is aborted, commands ignored until end of transaction block\n",
     "output_type": "error",
     "traceback": [
      "\u001b[0;31m---------------------------------------------------------------------------\u001b[0m",
      "\u001b[0;31mInFailedSqlTransaction\u001b[0m                    Traceback (most recent call last)",
      "Cell \u001b[0;32mIn[63], line 12\u001b[0m\n\u001b[1;32m      6\u001b[0m drop_column\u001b[38;5;241m=\u001b[39m\u001b[38;5;124m\"\"\"\u001b[39m\n\u001b[1;32m      7\u001b[0m \u001b[38;5;124malter table invitee\u001b[39m\n\u001b[1;32m      8\u001b[0m \u001b[38;5;124mdrop comments ;\u001b[39m\n\u001b[1;32m      9\u001b[0m \u001b[38;5;124m\"\"\"\u001b[39m\n\u001b[1;32m     11\u001b[0m cur \u001b[38;5;241m=\u001b[39m conn\u001b[38;5;241m.\u001b[39mcursor()\n\u001b[0;32m---> 12\u001b[0m \u001b[43mcur\u001b[49m\u001b[38;5;241;43m.\u001b[39;49m\u001b[43mexecute\u001b[49m\u001b[43m(\u001b[49m\u001b[43madd_column\u001b[49m\u001b[43m)\u001b[49m\n",
      "\u001b[0;31mInFailedSqlTransaction\u001b[0m: current transaction is aborted, commands ignored until end of transaction block\n"
     ]
    }
   ],
   "source": [
    "#Alter table \n",
    "add_column=\"\"\"\n",
    "alter table invitee\n",
    "add Comments  varchar(50);\n",
    "\"\"\"\n",
    "drop_column=\"\"\"\n",
    "alter table invitee\n",
    "drop comments ;\n",
    "\"\"\"\n",
    "\n",
    "cur = conn.cursor()\n",
    "cur.execute(add_column)\n"
   ]
  },
  {
   "cell_type": "code",
   "execution_count": null,
   "id": "46cb4007-093b-41da-a5a2-72b74cfc9d59",
   "metadata": {},
   "outputs": [],
   "source": []
  }
 ],
 "metadata": {
  "kernelspec": {
   "display_name": "smart_venv",
   "language": "python",
   "name": "smart_venv"
  },
  "language_info": {
   "codemirror_mode": {
    "name": "ipython",
    "version": 3
   },
   "file_extension": ".py",
   "mimetype": "text/x-python",
   "name": "python",
   "nbconvert_exporter": "python",
   "pygments_lexer": "ipython3",
   "version": "3.11.6"
  }
 },
 "nbformat": 4,
 "nbformat_minor": 5
}
