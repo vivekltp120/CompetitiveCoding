{
 "cells": [
  {
   "cell_type": "code",
   "execution_count": 18,
   "id": "d617dacc-56be-439c-9f6e-13d2023b706b",
   "metadata": {},
   "outputs": [
    {
     "name": "stdout",
     "output_type": "stream",
     "text": [
      "<mysql.connector.connection.MySQLConnection object at 0x7350bff4ba90>\n",
      "<mysql.connector.connection.MySQLConnection object at 0x7350bff49b90>\n"
     ]
    }
   ],
   "source": [
    "# importing required libraries\n",
    "import mysql.connector\n",
    "\n",
    "db_config={\n",
    "    \"user\":\"vivek\",\n",
    "    \"passwd\":\"\",\n",
    "    \"host\":\"localhost\"\n",
    "}\n",
    "\n",
    "\n",
    "def mysql_connection(**kwargs):\n",
    "    dataBase = mysql.connector.connect(\n",
    "        **kwargs\n",
    "    )\n",
    "    print(dataBase)\n",
    "    return dataBase\n",
    "\n",
    "def create_db(dbname=\"jai_shri_ram\"):\n",
    "    db=mysql_connection(**db_config);\n",
    "    cursor=db.cursor()\n",
    "    cursor.execute(f'create database if not exists {dbname}')\n",
    "    # db.close()\n",
    "\n",
    "def show_db():\n",
    "    db=mysql_connection(**db_config);\n",
    "    cursor=db.cursor()\n",
    "    cursor.execute(\"show databases\")\n",
    "    # db.close()\n",
    "\n",
    "\n",
    "def create_table():\n",
    "    pass\n",
    "\n",
    "\n",
    "\n",
    "\n",
    "\n",
    "\n",
    "if __name__==\"__main__\":\n",
    "    create_db()\n",
    "    show_db()\n"
   ]
  },
  {
   "cell_type": "code",
   "execution_count": null,
   "id": "68e8085e-79d2-45bf-8e5b-382b51a26bec",
   "metadata": {},
   "outputs": [],
   "source": []
  }
 ],
 "metadata": {
  "kernelspec": {
   "display_name": "smart_venv",
   "language": "python",
   "name": "smart_venv"
  },
  "language_info": {
   "codemirror_mode": {
    "name": "ipython",
    "version": 3
   },
   "file_extension": ".py",
   "mimetype": "text/x-python",
   "name": "python",
   "nbconvert_exporter": "python",
   "pygments_lexer": "ipython3",
   "version": "3.11.6"
  }
 },
 "nbformat": 4,
 "nbformat_minor": 5
}
