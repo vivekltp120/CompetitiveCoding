{
 "cells": [
  {
   "cell_type": "markdown",
   "id": "b5f2a7d8-f26c-4810-8fba-fbee2ef89f97",
   "metadata": {},
   "source": [
    "data = {\n",
    "'Name': ['Alice', 'Bob', 'Charlie'],\n",
    "'Hobbies': [['Reading', 'Cycling'], ['Cooking'], ['Hiking', 'Swimming', 'Gaming']]\n",
    "}\n",
    "\n",
    "Name    Hobbies\n",
    "0    Alice    Reading\n",
    "0    Alice    Cycling\n",
    "1      Bob    Cooking\n",
    "2  Charlie     Hiking\n",
    "2  Charlie   Swimming\n",
    "2  Charlie     Gaming"
   ]
  },
  {
   "cell_type": "code",
   "execution_count": 21,
   "id": "092bd0ba-585d-483b-a4bb-dbe3a08e504d",
   "metadata": {},
   "outputs": [
    {
     "name": "stdout",
     "output_type": "stream",
     "text": [
      "      Name   Hobbies\n",
      "0    Alice   Reading\n",
      "0    Alice   Cycling\n",
      "1      Bob   Cooking\n",
      "2  Charlie    Hiking\n",
      "2  Charlie  Swimming\n",
      "2  Charlie    Gaming\n"
     ]
    }
   ],
   "source": [
    "data = {\n",
    "'Name': ['Alice', 'Bob', 'Charlie'],\n",
    "'Hobbies': [['Reading', 'Cycling'], ['Cooking'], ['Hiking', 'Swimming', 'Gaming']]\n",
    "}\n",
    "\n",
    "# for i in range(len(data['Hobbies'])):\n",
    "#     for j in range(len(data['Hobbies'][i])-1):\n",
    "#       data['Name'].insert(i,data['Name'][i])\n",
    "# print(data)\n",
    "        \n",
    "    \n",
    "\n",
    "import pandas as pd\n",
    "df=pd.DataFrame(data)\n",
    "df=df.explode('Hobbies')\n",
    "print(df)"
   ]
  },
  {
   "cell_type": "code",
   "execution_count": null,
   "id": "ab84f31a-5b9d-4cad-8d02-749178a55b97",
   "metadata": {},
   "outputs": [],
   "source": [
    "Customer\n",
    "CustomerID\tPurchaseAmount\tTransactionDate\n",
    "101\t200\t2023-01-10\n",
    "102\t150\t2023-01-12\n",
    "101\t300\t2023-01-15\n",
    "103\t400\t2023-01-11\n",
    "102\t100\t2023-01-20\n",
    " \n",
    "101\t250\t2023-02-01\n",
    " \n",
    " \n",
    "CustomerID\tFirstPurchaseAmount\n",
    "101\t200\n",
    "102\t150 \n",
    "103\t400\n",
    "\n",
    "Select CustomerID , PurchaseAmount as FirstPurchaseAmount\n",
    "from Customer as T1\n",
    "join Customer as T2 on T1.CustomerID = T2.CustomerID\n",
    "having T1.TransactionDate < all(T2.TransactionDate)\n",
    "\n",
    " \n",
    " "
   ]
  }
 ],
 "metadata": {
  "kernelspec": {
   "display_name": "smart_venv",
   "language": "python",
   "name": "smart_venv"
  },
  "language_info": {
   "codemirror_mode": {
    "name": "ipython",
    "version": 3
   },
   "file_extension": ".py",
   "mimetype": "text/x-python",
   "name": "python",
   "nbconvert_exporter": "python",
   "pygments_lexer": "ipython3",
   "version": "3.11.6"
  }
 },
 "nbformat": 4,
 "nbformat_minor": 5
}
