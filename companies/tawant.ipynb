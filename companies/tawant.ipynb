{
 "cells": [
  {
   "cell_type": "code",
   "execution_count": 25,
   "id": "55a52809-259e-4263-b229-75c2934294a0",
   "metadata": {},
   "outputs": [
    {
     "name": "stdout",
     "output_type": "stream",
     "text": [
      "4\n"
     ]
    }
   ],
   "source": [
    "a=[5,1,4,3,5,6,2,4,8,9,9,10,9,9,9,2]\n",
    "a.sort()\n",
    "n=len(a)\n",
    "i=n-1\n",
    "temp=0\n",
    "largest=6\n",
    "while i>0:\n",
    "    if temp==a[i]:\n",
    "        i-=1\n",
    "        continue\n",
    "    else:    \n",
    "       temp=a[i]\n",
    "    largest-=1\n",
    "    if largest==0:\n",
    "        result=temp\n",
    "        break\n",
    "    i-=1\n",
    "print(result)    \n",
    "    "
   ]
  },
  {
   "cell_type": "code",
   "execution_count": 26,
   "id": "785b50e4-6172-4c9d-ad0d-e8a94f0c3a32",
   "metadata": {},
   "outputs": [
    {
     "name": "stdout",
     "output_type": "stream",
     "text": [
      "   0\n",
      "0  1\n",
      "1  2\n",
      "2  3\n",
      "3  4\n",
      "4  5\n",
      "   0\n",
      "0  1\n",
      "1  2\n",
      "2  3\n",
      "3  4\n",
      "4  5\n"
     ]
    }
   ],
   "source": [
    "a=[1,2,3,4,5]\n",
    "import pandas as pd\n",
    "obj=pd.Series(a)\n",
    "print(obj.to_frame())\n",
    "df=pd.DataFrame(a)\n",
    "print(df)"
   ]
  },
  {
   "cell_type": "code",
   "execution_count": null,
   "id": "07739d97-b57b-457a-a722-075df5a8e53c",
   "metadata": {},
   "outputs": [],
   "source": []
  }
 ],
 "metadata": {
  "kernelspec": {
   "display_name": "smart_venv",
   "language": "python",
   "name": "smart_venv"
  },
  "language_info": {
   "codemirror_mode": {
    "name": "ipython",
    "version": 3
   },
   "file_extension": ".py",
   "mimetype": "text/x-python",
   "name": "python",
   "nbconvert_exporter": "python",
   "pygments_lexer": "ipython3",
   "version": "3.11.6"
  }
 },
 "nbformat": 4,
 "nbformat_minor": 5
}
