{
 "cells": [
  {
   "cell_type": "code",
   "execution_count": null,
   "id": "16f0cdc5-a851-4974-a995-bb88ce125759",
   "metadata": {},
   "outputs": [
    {
     "ename": "",
     "evalue": "",
     "output_type": "error",
     "traceback": [
      "\u001b[1;31mRunning cells with '.conda (Python 3.12.11)' requires the ipykernel package.\n",
      "\u001b[1;31mInstall 'ipykernel' into the Python environment. \n",
      "\u001b[1;31mCommand: 'conda install -n .conda ipykernel --update-deps --force-reinstall'"
     ]
    }
   ],
   "source": [
    "!python -m ipykernel install --user --name aiml_venv --display-name \"aiml_venv\""
   ]
  },
  {
   "cell_type": "markdown",
   "id": "e3d75448",
   "metadata": {},
   "source": []
  },
  {
   "cell_type": "code",
   "execution_count": 1,
   "id": "2c458064",
   "metadata": {},
   "outputs": [
    {
     "name": "stdout",
     "output_type": "stream",
     "text": [
      "/bin/bash: line 1: conda: command not found\n"
     ]
    }
   ],
   "source": [
    "!conda install -n .conda ipykernel --update-deps --force-reinstall"
   ]
  },
  {
   "cell_type": "code",
   "execution_count": 3,
   "id": "bf276b17-21d3-47a4-bcb9-a41479d804a5",
   "metadata": {},
   "outputs": [
    {
     "name": "stdout",
     "output_type": "stream",
     "text": [
      "[1, 2, 3, 4, 5, 6, 7]\n"
     ]
    }
   ],
   "source": [
    "a=[7,8,6,1,4,2,3,5]\n",
    "\n",
    "def merge_sort(a,left,right):\n",
    "    if left==right:\n",
    "        return a[left]\n",
    "    \n",
    "    if left<right:\n",
    "        mid=(right+left)//2\n",
    "        merge_sort(a,left,mid)\n",
    "        merge_sort(a,mid+1,right)\n",
    "        merge(a,left,mid,right)\n",
    "\n",
    "def merge(a,left,mid,right):\n",
    "    k=left\n",
    "    left_arr=a[left:mid+1]\n",
    "    right_arr=a[mid+1:right+1]\n",
    "    i=0\n",
    "    j=0\n",
    "    \n",
    "    while i < mid-left+1 and j<right-mid:\n",
    "        if left_arr[i]<right_arr[j]:\n",
    "            a[k]=left_arr[i]\n",
    "            i+=1\n",
    "            k+=1\n",
    "        else:\n",
    "            a[k]=right_arr[j]\n",
    "            j+=1\n",
    "            k+=1\n",
    "    while i < mid-left+1:\n",
    "        a[k]=left_arr[i]\n",
    "        i+=1\n",
    "        k+=1\n",
    "    while j< right-mid:\n",
    "        a[k]=right_arr[j]\n",
    "        k+=1\n",
    "        j+=1\n",
    "\n",
    "\n",
    "if __name__==\"__main__\":\n",
    "   a=[7,6,1,4,2,3,5]\n",
    "   merge_sort(a,0,len(a)-1) \n",
    "   print(a)\n",
    "\n",
    "    \n",
    "        \n",
    "        \n",
    "    \n",
    "    \n",
    "    \n",
    "    \n",
    "    \n",
    "    \n"
   ]
  },
  {
   "cell_type": "code",
   "execution_count": null,
   "id": "92ccba63-2496-45ce-9a9b-a8309179ea37",
   "metadata": {},
   "outputs": [],
   "source": [
    "#Tekion\n",
    "Given n dices, each with m faces, numbered from 1 to m, \n",
    "find the number of ways to get a given sum X. X is the summation of values on each face when all the dice are thrown. \n",
    "Examples: Input : faces = 4 dice = 2 sum =4 \n",
    "Output : 3 Ways to reach sum equal to 4 in 2 dices can be { (1, 3), (2, 2), (3, 1) } \n",
    "Input : faces = 6 dice = 3 sum = 12 Output : 25\n",
    "\n",
    "\n",
    "\n",
    "\n"
   ]
  },
  {
   "cell_type": "code",
   "execution_count": 37,
   "id": "de48c7d2-e3d6-41d2-96bb-d34acdbec3a0",
   "metadata": {},
   "outputs": [
    {
     "name": "stdout",
     "output_type": "stream",
     "text": [
      "[1, 7, 4, 2, 3, 5]\n",
      "[1, 7, 5, 2, 3, 4]\n",
      "[1, 7, 5, 2, 3, 4]\n",
      "[1, 7, 5, 2, 3, 4]\n",
      "[7, 3, 5, 2, 1, 4]\n",
      "[7, 3, 5, 2, 1, 4]\n",
      "[7, 3, 5, 2, 1, 4]\n",
      "In extract [7, 3, 5, 2, 1, 4]\n",
      "[5, 3, 4, 2, 1, 7]\n",
      "[5, 3, 4, 2, 1, 7]\n",
      "In extract [5, 3, 4, 2, 1, 7]\n",
      "[4, 3, 1, 2, 5, 7]\n",
      "[4, 3, 1, 2, 5, 7]\n",
      "In extract [4, 3, 1, 2, 5, 7]\n",
      "[3, 2, 1, 4, 5, 7]\n",
      "[3, 2, 1, 4, 5, 7]\n",
      "In extract [3, 2, 1, 4, 5, 7]\n",
      "[2, 1, 3, 4, 5, 7]\n",
      "[2, 1, 3, 4, 5, 7]\n",
      "In extract [2, 1, 3, 4, 5, 7]\n",
      "[1, 2, 3, 4, 5, 7]\n",
      "In extract [1, 2, 3, 4, 5, 7]\n",
      "[1, 2, 3, 4, 5, 7]\n",
      "[1, 2, 3, 4, 5, 7]\n",
      "[1, 2, 3, 4, 5, 7]\n"
     ]
    }
   ],
   "source": []
  },
  {
   "cell_type": "code",
   "execution_count": null,
   "id": "f7434185-b5b0-4e9d-993f-aae11b7b763c",
   "metadata": {},
   "outputs": [],
   "source": []
  },
  {
   "cell_type": "code",
   "execution_count": null,
   "id": "9325c8c8-434a-4ce2-b85c-9291c8f976ad",
   "metadata": {},
   "outputs": [],
   "source": []
  }
 ],
 "metadata": {
  "kernelspec": {
   "display_name": ".conda",
   "language": "python",
   "name": "python3"
  },
  "language_info": {
   "codemirror_mode": {
    "name": "ipython",
    "version": 3
   },
   "file_extension": ".py",
   "mimetype": "text/x-python",
   "name": "python",
   "nbconvert_exporter": "python",
   "pygments_lexer": "ipython3",
   "version": "3.12.11"
  }
 },
 "nbformat": 4,
 "nbformat_minor": 5
}
