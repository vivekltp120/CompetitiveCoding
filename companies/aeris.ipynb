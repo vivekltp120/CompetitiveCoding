{
 "cells": [
  {
   "cell_type": "code",
   "execution_count": 11,
   "id": "dec2faf3-00d1-4600-b7b0-a895466e8cf1",
   "metadata": {},
   "outputs": [
    {
     "name": "stdout",
     "output_type": "stream",
     "text": [
      "[1, 2, 3, 4, 5, 6]\n"
     ]
    }
   ],
   "source": [
    "from collections import defaultdict\n",
    "a=[1,2,2,3,4,4,5,6]\n",
    "dicta=defaultdict(int)\n",
    "for i in range(len(a)):\n",
    "    dicta[a[i]]+=1\n",
    "result=[x for x in dicta.keys()]\n",
    "print(result)\n",
    "\n",
    "\n",
    "\n"
   ]
  },
  {
   "cell_type": "code",
   "execution_count": 20,
   "id": "c4613ffa-b268-4684-861a-b12a646901f5",
   "metadata": {},
   "outputs": [
    {
     "name": "stdout",
     "output_type": "stream",
     "text": [
      "(0, 0    1\n",
      "Name: 0, dtype: int64)\n",
      "(1, 0    2\n",
      "Name: 1, dtype: int64)\n",
      "(3, 0    3\n",
      "Name: 3, dtype: int64)\n",
      "(4, 0    4\n",
      "Name: 4, dtype: int64)\n",
      "(6, 0    5\n",
      "Name: 6, dtype: int64)\n",
      "(7, 0    6\n",
      "Name: 7, dtype: int64)\n"
     ]
    }
   ],
   "source": [
    "import pandas as pd\n",
    "df=pd.DataFrame(a)\n",
    "df=df.drop_duplicates()\n",
    "for e in df.iterrows():\n",
    "    \n",
    "      \n"
   ]
  },
  {
   "cell_type": "code",
   "execution_count": null,
   "id": "037c6c3f-fddd-40f7-9cd0-4deeededc5ba",
   "metadata": {},
   "outputs": [],
   "source": []
  }
 ],
 "metadata": {
  "kernelspec": {
   "display_name": "Python 3 (ipykernel)",
   "language": "python",
   "name": "python3"
  },
  "language_info": {
   "codemirror_mode": {
    "name": "ipython",
    "version": 3
   },
   "file_extension": ".py",
   "mimetype": "text/x-python",
   "name": "python",
   "nbconvert_exporter": "python",
   "pygments_lexer": "ipython3",
   "version": "3.13.3"
  }
 },
 "nbformat": 4,
 "nbformat_minor": 5
}
