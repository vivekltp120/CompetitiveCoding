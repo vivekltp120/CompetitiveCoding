{
 "cells": [
  {
   "cell_type": "code",
   "execution_count": 15,
   "id": "f5f083ed-85d2-4113-ba1c-3680d9cf671e",
   "metadata": {},
   "outputs": [
    {
     "name": "stdout",
     "output_type": "stream",
     "text": [
      "[[7, -9, -8]]\n"
     ]
    }
   ],
   "source": [
    "item=[2,3,5,-3,-1,7,-8,-9]\n",
    "def max_triplet(n_list):\n",
    "    #sort the list\n",
    "    max_mult=0\n",
    "    result=[]\n",
    "    tlist=sorted(n_list,reverse=True)\n",
    "    triplet=tlist[0:3]\n",
    "    if max_mult<=triplet[0]*triplet[1]*triplet[2]:\n",
    "        max_mult=triplet[0]*triplet[1]*triplet[2]\n",
    "    if tlist[0]*tlist[-1]*tlist[-2]>max_mult:\n",
    "        result.append([tlist[0],tlist[-1],tlist[-2]])\n",
    "    print(result)\n",
    "    #in case of last two number is greater than first two positive number\n",
    "     \n",
    "    \n",
    "        \n",
    "        \n",
    "if __name__==\"__main__\":\n",
    "    max_triplet(item)\n",
    "    \n",
    "    "
   ]
  },
  {
   "cell_type": "code",
   "execution_count": 16,
   "id": "b3563324-63e2-4f74-b0d6-09ab70fa6fec",
   "metadata": {},
   "outputs": [
    {
     "ename": "SyntaxError",
     "evalue": "invalid syntax (2055262016.py, line 1)",
     "output_type": "error",
     "traceback": [
      "  \u001b[36mCell\u001b[39m\u001b[36m \u001b[39m\u001b[32mIn[16]\u001b[39m\u001b[32m, line 1\u001b[39m\n\u001b[31m    \u001b[39m\u001b[31mnn                 ooiioooooopo;,,,,,,,,,,,,,,,,,,,,,,,,,,,,,,,,,,,,,,,,,,,,,,,,,,,,,,,\u001b[39m\n                       ^\n\u001b[31mSyntaxError\u001b[39m\u001b[31m:\u001b[39m invalid syntax\n"
     ]
    }
   ],
   "source": [
    "                             nn                 ooiioooooopo;,,,,,,,,,,,,,,,,,,,,,,,,,,,,,,,,,,,,,,,,,,,,,,,,,,,,,,,"
   ]
  }
 ],
 "metadata": {
  "kernelspec": {
   "display_name": "aiml_venv (3.13.3)",
   "language": "python",
   "name": "python3"
  },
  "language_info": {
   "codemirror_mode": {
    "name": "ipython",
    "version": 3
   },
   "file_extension": ".py",
   "mimetype": "text/x-python",
   "name": "python",
   "nbconvert_exporter": "python",
   "pygments_lexer": "ipython3",
   "version": "3.13.3"
  }
 },
 "nbformat": 4,
 "nbformat_minor": 5
}
