{
 "cells": [
  {
   "cell_type": "code",
   "execution_count": 16,
   "id": "11519954-46e0-4770-941d-b50de0605f3b",
   "metadata": {},
   "outputs": [
    {
     "name": "stdout",
     "output_type": "stream",
     "text": [
      "3\n",
      "OrderedDict([(1, 5), (3, 3)])\n"
     ]
    }
   ],
   "source": [
    "\n",
    "    #LRU\n",
    "from collections import OrderedDict,deque\n",
    "\n",
    "class LRUCache:\n",
    "    def __init__(self,size):\n",
    "        self.cache=OrderedDict()\n",
    "        self.capacity=size\n",
    "\n",
    "    def put(self,key,value):\n",
    "        if len(self.cache)<self.capacity:\n",
    "             self.cache[key]=value\n",
    "        else:\n",
    "             self.cache.popitem(0)\n",
    "             self.cache[key]=value\n",
    "    def get(self,key):\n",
    "        if key in self.cache:\n",
    "            self.cache.move_to_end(key)\n",
    "            return self.cache[key]\n",
    "        else:\n",
    "            return -1\n",
    "class MRUCache:\n",
    "    def __init__(self,size):\n",
    "        self.cache=deque()\n",
    "        self.capacity=size\n",
    "\n",
    "    def put(self,key):\n",
    "        if len(self.cache)<self.capacity:\n",
    "            self.cache.append(key)\n",
    "        else:\n",
    "            self.cache.pop()\n",
    "            self.cache.append(key)\n",
    "    def get(self,key):\n",
    "        if key in self.cache:\n",
    "            self.cache.append(key)\n",
    "            return True\n",
    "        else:\n",
    "            return -1\n",
    "\n",
    "        \n",
    "\n",
    "if __name__==\"__main__\":\n",
    "    cache=LRUCache(2)\n",
    "    cache.put(2,3)\n",
    "    cache.put(1,5)\n",
    "    cache.put(3,3)\n",
    "    print(cache.get(3))\n",
    "    print(cache.cache)\n",
    "            \n"
   ]
  },
  {
   "cell_type": "markdown",
   "id": "e0006b37-b6d6-454b-8388-e18c6da27989",
   "metadata": {},
   "source": [
    "\n"
   ]
  },
  {
   "cell_type": "code",
   "execution_count": null,
   "id": "6c1b525c-dae7-44e1-ae2a-6baf21fbb703",
   "metadata": {},
   "outputs": [],
   "source": []
  }
 ],
 "metadata": {
  "kernelspec": {
   "display_name": "smart_venv",
   "language": "python",
   "name": "smart_venv"
  },
  "language_info": {
   "codemirror_mode": {
    "name": "ipython",
    "version": 3
   },
   "file_extension": ".py",
   "mimetype": "text/x-python",
   "name": "python",
   "nbconvert_exporter": "python",
   "pygments_lexer": "ipython3",
   "version": "3.11.6"
  }
 },
 "nbformat": 4,
 "nbformat_minor": 5
}
