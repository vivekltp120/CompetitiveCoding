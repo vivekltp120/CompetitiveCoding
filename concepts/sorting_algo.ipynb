{
 "cells": [
  {
   "cell_type": "code",
   "execution_count": 1,
   "id": "94f363da-21d9-4db4-81c6-3ac18711b601",
   "metadata": {},
   "outputs": [
    {
     "name": "stdout",
     "output_type": "stream",
     "text": [
      "[3]\n",
      "[4]\n",
      "[5]\n",
      "[1]\n",
      "[3, 4]\n",
      "[1, 5]\n",
      "[2]\n",
      "[8]\n",
      "[7]\n",
      "[9]\n",
      "[2, 8]\n",
      "[7, 9]\n",
      "[1, 3, 4, 5]\n",
      "[2, 7, 8, 9]\n",
      "[1, 2, 3, 4, 5, 7, 8, 9]\n"
     ]
    }
   ],
   "source": [
    "#Quick Sort\n",
    "def quick(arr,p,r):\n",
    "    if p<r:\n",
    "        q=partition(arr,p,r)\n",
    "        quick(arr,p,q-1)\n",
    "        quick(arr,q+1,r)\n",
    "def partition(arr,p,r):\n",
    "    pivot=arr[r]\n",
    "    j=p\n",
    "    i=j-1\n",
    "    while j<r:\n",
    "        if arr[j]<pivot:\n",
    "            i+=1\n",
    "            arr[j],arr[i]=arr[i],arr[j]\n",
    "        j+=1\n",
    "    arr[i+1],arr[r]=arr[r],arr[i+1]\n",
    "    return i+1     \n",
    "\n",
    "\n",
    "def merge_sort(arr,strt_i,end_i):\n",
    "    if strt_i<end_i:\n",
    "        mid=(end_i+strt_i)//2\n",
    "        merge_sort(arr,strt_i,mid)\n",
    "        merge_sort(arr,mid+1,end_i)\n",
    "        merge(arr,strt_i,mid,end_i)\n",
    "        \n",
    "        \n",
    "        \n",
    "def merge(arr,p,mid,q):\n",
    "    i=0\n",
    "    j=0\n",
    "    k=p\n",
    "    left_arr=arr[p:mid+1]\n",
    "    right_arr=arr[mid+1:q+1]\n",
    "    print(left_arr)\n",
    "    print(right_arr)\n",
    "    \n",
    "    while i < mid-p+1  and j < q-mid:\n",
    "        if left_arr[i]<= right_arr[j]:\n",
    "            arr[k]=left_arr[i]\n",
    "            i+=1\n",
    "        else:\n",
    "            arr[k]=right_arr[j]\n",
    "            j+=1\n",
    "        k+=1\n",
    "    while i < mid-p+1:\n",
    "        arr[k]=left_arr[i]\n",
    "        i+=1\n",
    "        k+=1\n",
    "    while j < q-mid:\n",
    "        arr[k]=right_arr[j]\n",
    "        j+=1\n",
    "        k+=1\n",
    "    \n",
    "\n",
    "\n",
    "if __name__==\"__main__\":\n",
    "    arr=[3,4,5,1,2,8,7,9]\n",
    "    \n",
    "    # quick(arr,0,len(arr)-1)\n",
    "    # print(arr)\n",
    "    merge_sort(arr,0,len(arr)-1)\n",
    "    print(arr)"
   ]
  },
  {
   "cell_type": "code",
   "execution_count": null,
   "id": "f6f27f66-1291-470c-af73-7584bcda3b24",
   "metadata": {},
   "outputs": [],
   "source": []
  },
  {
   "cell_type": "code",
   "execution_count": null,
   "id": "e3ff1b7e-847c-4cf3-9298-e8f116f8b8c8",
   "metadata": {},
   "outputs": [],
   "source": []
  }
 ],
 "metadata": {
  "kernelspec": {
   "display_name": "smart_venv",
   "language": "python",
   "name": "smart_venv"
  },
  "language_info": {
   "codemirror_mode": {
    "name": "ipython",
    "version": 3
   },
   "file_extension": ".py",
   "mimetype": "text/x-python",
   "name": "python",
   "nbconvert_exporter": "python",
   "pygments_lexer": "ipython3",
   "version": "3.11.6"
  }
 },
 "nbformat": 4,
 "nbformat_minor": 5
}
