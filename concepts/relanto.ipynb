{
 "cells": [
  {
   "cell_type": "markdown",
   "id": "b8f8f1d9-ba78-487a-bfbd-985e69b9ad6e",
   "metadata": {},
   "source": [
    "Title: Reverse Segments Between Digits\n",
    "Description:\n",
    "Given a string s containing lowercase letters and digits, reverse the segments of letters between the digits while keeping the digits and their positions unchanged. Return the modified string.\n",
    "Example:\n",
    "Input: \"11abc12asd2sjkls11\"\n",
    "Output: \"cba12dsa2slkjs\"\n",
    "Constraints:\n",
    "\t•\tThe string s consists of lowercase letters and digits only.\n",
    "\t•\tThe length of s is between 1 and 1000."
   ]
  },
  {
   "cell_type": "code",
   "execution_count": 24,
   "id": "443f12cf-956b-43e3-8409-a8e9e1ac3730",
   "metadata": {},
   "outputs": [
    {
     "name": "stdout",
     "output_type": "stream",
     "text": [
      "123cba12dsa2slkjs321\n"
     ]
    }
   ],
   "source": [
    "def reverse(instr):\n",
    "    result=[]\n",
    "    #converting it into list\n",
    "    strlist=list(instr)\n",
    "    n=len(strlist)\n",
    "    left=0\n",
    "   \n",
    "    for right in range(len(strlist)):\n",
    "        if strlist[right].isdigit():\n",
    "            result.extend(reversed(strlist[left:right]))\n",
    "            result.append(strlist[right])\n",
    "            left=right+1    \n",
    "        while left<n and strlist[left].isdigit():\n",
    "            left+=1\n",
    "    if left<n:\n",
    "        result.extend(reversed(strlist[left:n]))\n",
    "        left+=1\n",
    "         \n",
    "    print(\"\".join(result)) \n",
    "       \n",
    "if __name__==\"__main__\":\n",
    "    inp=\"123abc12asd2sjkls321\"\n",
    "    reverse(inp)\n",
    "            \n",
    "            \n",
    "        \n"
   ]
  },
  {
   "cell_type": "code",
   "execution_count": null,
   "id": "dbcaaa90-a00e-496e-8439-7c90e4fbfd8f",
   "metadata": {},
   "outputs": [],
   "source": []
  }
 ],
 "metadata": {
  "kernelspec": {
   "display_name": "smart_venv",
   "language": "python",
   "name": "smart_venv"
  },
  "language_info": {
   "codemirror_mode": {
    "name": "ipython",
    "version": 3
   },
   "file_extension": ".py",
   "mimetype": "text/x-python",
   "name": "python",
   "nbconvert_exporter": "python",
   "pygments_lexer": "ipython3",
   "version": "3.11.6"
  }
 },
 "nbformat": 4,
 "nbformat_minor": 5
}
