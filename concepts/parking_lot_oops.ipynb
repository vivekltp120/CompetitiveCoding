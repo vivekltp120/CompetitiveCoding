{
 "cells": [
  {
   "cell_type": "markdown",
   "id": "8706ffdd-0a2d-47f0-ad21-d18d2966125d",
   "metadata": {},
   "source": [
    "## Parking Lot LLD \n",
    "### Actor and Services\n",
    "- Parking\n",
    "- Entry \n",
    "- Exit\n",
    "- Parking Slot\n",
    "- Payment Service\n",
    "- Factory Design\n",
    "\n"
   ]
  },
  {
   "cell_type": "code",
   "execution_count": null,
   "id": "17afdced-fc2c-4f41-b104-a7adc33fdce6",
   "metadata": {},
   "outputs": [],
   "source": []
  }
 ],
 "metadata": {
  "kernelspec": {
   "display_name": "aiml_venv",
   "language": "python",
   "name": "aiml_venv"
  },
  "language_info": {
   "codemirror_mode": {
    "name": "ipython",
    "version": 3
   },
   "file_extension": ".py",
   "mimetype": "text/x-python",
   "name": "python",
   "nbconvert_exporter": "python",
   "pygments_lexer": "ipython3",
   "version": "3.13.3"
  }
 },
 "nbformat": 4,
 "nbformat_minor": 5
}
