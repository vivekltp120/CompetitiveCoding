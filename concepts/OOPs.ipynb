{
 "cells": [
  {
   "cell_type": "code",
   "execution_count": null,
   "id": "da445433-4577-4d64-8456-76d5aa5ef14e",
   "metadata": {},
   "outputs": [
    {
     "name": "stdout",
     "output_type": "stream",
     "text": [
      "This is the Animal class\n",
      "This is Wild Animal\n",
      "This is the Tiger body\n",
      "Siyaram\n",
      "Radheshyam\n",
      "Radheshyam in Animal\n"
     ]
    }
   ],
   "source": [
    "from abc import ABC,abstractclassmethod\n",
    "\n",
    "class Animal():\n",
    "    #private variable\n",
    "    __x=None\n",
    "    #Protected\n",
    "    _y=8\n",
    "    def __init__(self):\n",
    "        print('This is the Animal class')\n",
    "        self._y=\"Siyaram\"\n",
    "        self.__x=\"Radheshyam in Animal\"\n",
    "\n",
    "\n",
    "    def body(self):\n",
    "        print('This is the body for Animal')\n",
    "\n",
    "\n",
    "class Pet():\n",
    "    def __init__(self):\n",
    "        print('This is Petpet Animal')\n",
    "\n",
    "\n",
    "class Wild():\n",
    "    def __init__(self):\n",
    "        print('This is Wild Animal')\n",
    "\n",
    "\n",
    "class Dog(Animal, Pet):\n",
    "    def __init__(self):\n",
    "        Animal.__init__(self)\n",
    "        Pet.__init__(self)\n",
    "\n",
    "    def body(self):\n",
    "        print('This is Dog')\n",
    "        Animal.body(self)\n",
    "\n",
    "\n",
    "class Tiger(Animal, Wild):\n",
    "    def __init__(self):\n",
    "        self.__x=\"Radheshyam\"\n",
    "        Animal.__init__(self)\n",
    "        Wild.__init__(self)\n",
    "\n",
    "    def body(self):\n",
    "        print('This is the Tiger body')\n",
    "\n",
    "\n",
    "\n",
    "\n",
    "if __name__ == '__main__':\n",
    "    t = Tiger()\n",
    "    t.body()\n",
    "    print(t._y)\n",
    "    print(t._Tiger__x)\n",
    "    print(t._Animal__x)\n",
    "\n",
    "\n",
    "    \n"
   ]
  },
  {
   "cell_type": "code",
   "execution_count": null,
   "id": "202f633b-c985-418d-891f-56c142a60b50",
   "metadata": {},
   "outputs": [],
   "source": []
  },
  {
   "cell_type": "code",
   "execution_count": null,
   "id": "6152dcc4-409a-4656-a165-5cf50652af52",
   "metadata": {},
   "outputs": [],
   "source": []
  },
  {
   "cell_type": "code",
   "execution_count": null,
   "id": "0edd132c-acaf-479c-8da6-dbe2c6d32d93",
   "metadata": {},
   "outputs": [],
   "source": []
  }
 ],
 "metadata": {
  "kernelspec": {
   "display_name": "aiml_venv (3.13.3)",
   "language": "python",
   "name": "python3"
  },
  "language_info": {
   "codemirror_mode": {
    "name": "ipython",
    "version": 3
   },
   "file_extension": ".py",
   "mimetype": "text/x-python",
   "name": "python",
   "nbconvert_exporter": "python",
   "pygments_lexer": "ipython3",
   "version": "3.13.3"
  }
 },
 "nbformat": 4,
 "nbformat_minor": 5
}
