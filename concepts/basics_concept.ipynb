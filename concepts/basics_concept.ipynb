{
 "cells": [
  {
   "cell_type": "code",
   "execution_count": 1,
   "metadata": {},
   "outputs": [
    {
     "name": "stdout",
     "output_type": "stream",
     "text": [
      "This id is for the python interpreter\n",
      "This id is for the python interpreter\n"
     ]
    },
    {
     "name": "stderr",
     "output_type": "stream",
     "text": [
      "/media/vivek/Data/smart_venv/lib/python3.11/site-packages/matplotlib/projections/__init__.py:63: UserWarning: Unable to import Axes3D. This may be due to multiple versions of Matplotlib being installed (e.g. as a system package and as a pip package). As a result, the 3D projection is not available.\n",
      "  warnings.warn(\"Unable to import Axes3D. This may be due to multiple versions of \"\n"
     ]
    }
   ],
   "source": [
    "%matplotlib inline\n",
    "print('This id is for the python interpreter')\n",
    "print('This id is for the python interpreter')"
   ]
  },
  {
   "cell_type": "code",
   "execution_count": 3,
   "metadata": {},
   "outputs": [
    {
     "name": "stdout",
     "output_type": "stream",
     "text": [
      "{0: [1, 2, 3, 4, 5, 6, 7, 8]}\n",
      "defaultdict(<class 'list'>, {0: [[1, 2, 3, 4, 5, 6, 7, 8]], 1: [[1, 2, 3, 4, 5, 6, 7, 8]], 2: [[1, 2, 3, 4, 5, 6, 7, 8]]})\n"
     ]
    }
   ],
   "source": [
    "from collections import defaultdict\n",
    "l=[1,2,3,4,5,6,7,8]\n",
    "adjlist={}\n",
    "adjlist[0]=l\n",
    "print(adjlist)\n",
    "dd=defaultdict(list)\n",
    "dd[0].append(l)\n",
    "dd[1].append(l)\n",
    "dd[2].append(l)\n",
    "print(dd)\n"
   ]
  },
  {
   "cell_type": "code",
   "execution_count": 4,
   "metadata": {},
   "outputs": [
    {
     "name": "stdout",
     "output_type": "stream",
     "text": [
      "0\n"
     ]
    }
   ],
   "source": [
    "a =[1,2,3,4,5]\n",
    "max(a[0:3])\n",
    "for i in range(0,1):\n",
    "    print(i)\n",
    "    \n"
   ]
  },
  {
   "cell_type": "code",
   "execution_count": 5,
   "metadata": {},
   "outputs": [
    {
     "data": {
      "text/plain": [
       "9"
      ]
     },
     "execution_count": 5,
     "metadata": {},
     "output_type": "execute_result"
    }
   ],
   "source": [
    "max([1,3,6,7,8,9])"
   ]
  },
  {
   "cell_type": "code",
   "execution_count": 6,
   "metadata": {
    "collapsed": false,
    "jupyter": {
     "outputs_hidden": false
    }
   },
   "outputs": [
    {
     "name": "stdout",
     "output_type": "stream",
     "text": [
      "['radhe', 'vivek', 'shyam', 'ram']\n"
     ]
    },
    {
     "data": {
      "text/plain": [
       "'radhe'"
      ]
     },
     "execution_count": 6,
     "metadata": {},
     "output_type": "execute_result"
    }
   ],
   "source": [
    "a=[[1,2],[3,4,5,6]]\n",
    "a.pop()\n",
    "a.extend(a.pop())\n",
    "a.remove(1)\n",
    "a.extend([3,4,5,6])\n",
    "\n",
    "b=['ram','shyam','vivek','radhe']\n",
    "b.index('shyam')\n",
    "\n",
    "b.__sizeof__()\n",
    "b.__iter__()\n",
    "rev=[x for x in b.__reversed__()]\n",
    "print(rev)\n",
    "b.pop()\n"
   ]
  },
  {
   "cell_type": "code",
   "execution_count": 7,
   "metadata": {},
   "outputs": [
    {
     "name": "stdout",
     "output_type": "stream",
     "text": [
      "['This is the case', 'This is my india']\n"
     ]
    }
   ],
   "source": [
    "a=['This is the case','This is my india']\n",
    "print(a)"
   ]
  },
  {
   "cell_type": "code",
   "execution_count": 8,
   "metadata": {},
   "outputs": [
    {
     "name": "stdout",
     "output_type": "stream",
     "text": [
      "{0: 'ram', 1: 'shyam', 2: 'hanuman', 3: 'shyam'}\n",
      "<class 'dict'>\n"
     ]
    },
    {
     "data": {
      "text/plain": [
       "'ram'"
      ]
     },
     "execution_count": 8,
     "metadata": {},
     "output_type": "execute_result"
    }
   ],
   "source": [
    "a={0:'ram',1:'shyam',2:'hanuman',3:'shyam'}\n",
    "print(a)\n",
    "print(type(a))\n",
    "# a.remove('shyam')\n",
    "a[0]"
   ]
  },
  {
   "cell_type": "code",
   "execution_count": 9,
   "metadata": {},
   "outputs": [
    {
     "data": {
      "text/plain": [
       "2"
      ]
     },
     "execution_count": 9,
     "metadata": {},
     "output_type": "execute_result"
    }
   ],
   "source": [
    "name='vivek'\n",
    "name.count('v')\n"
   ]
  },
  {
   "cell_type": "code",
   "execution_count": 10,
   "metadata": {},
   "outputs": [
    {
     "name": "stdout",
     "output_type": "stream",
     "text": [
      "10781640\n",
      "9826912\n",
      "9826912\n",
      "10781672\n",
      "9842272\n",
      "9842272\n",
      "10781704\n",
      "9811328\n",
      "9811328\n",
      "10781736\n",
      "9811328\n",
      "9811328\n"
     ]
    }
   ],
   "source": [
    "l=['a','b','c']\n",
    "# id('a')\n",
    "l.pop()\n",
    "l.append('c')\n",
    "l.insert(2,'c')\n",
    "\n",
    "for i in range(len((l))):\n",
    "    print(id(i))\n",
    "    print(id(l[i]))\n",
    "    print((id(l[i])))\n"
   ]
  },
  {
   "cell_type": "code",
   "execution_count": 12,
   "metadata": {
    "editable": true,
    "slideshow": {
     "slide_type": ""
    },
    "tags": []
   },
   "outputs": [
    {
     "name": "stdout",
     "output_type": "stream",
     "text": [
      "[5403, 2651, 2754, 2399, 9932, 5060, 9676, 3368, 7739, 12, 6226, 8586, 8094, 7539, 795, 570, 1434, 378, 7467, 6601, 97, 2902, 3317, 492, 6652, 756, 7301, 280, 4286, 9441, 3865, 9689, 8444, 6619, 8440, 4729, 8031, 8117, 8097, 5771, 4481, 675, 709, 8927, 4567, 7856, 9497, 2353, 4586, 6965, 5306, 4683, 6219, 8624, 1528, 2871, 5732, 8829, 9503, 19, 8270, 3368, 9708, 6715, 6340, 8149, 7796, 723, 2618, 2245, 2846, 3451, 2921, 3555, 2379, 7488, 7764, 8228, 9841, 2350, 5193, 1500, 7034, 7764, 124]\n"
     ]
    }
   ],
   "source": [
    "#joining the string of numbers\n",
    "stock='886 2777 6915 7793 8335 5386 492 6649 1421 2362 27 8690 59 7763 3926 540 3426 9172 5736 5211 5368 2567 6429 5782 1530 2862 5123 4067 3135 3929 9802 4022 3058 3069 8167 1393 8456 5011 8042 6229 7373 4421 4919 3784 8537 5198 4324 8315 4370 6413 3526 6091 8980 9956 1873 6862 9170 6996 7281 2305 925 7084 6327 336 6505 846 1729 1313 5857 6124 3895 9582 545 8814 3367 5434 364 4043 3750 1087 6808 7276 7178 5788'\n",
    "stock1='5403 2651 2754 2399 9932 5060 9676 3368 7739 12 6226 8586 8094 7539 795 570 1434 378 7467 6601 97 2902 3317 492 6652 756 7301 280 4286 9441 3865 9689 8444 6619 8440 4729 8031 8117 8097 5771 4481 675 709 8927 4567 7856 9497 2353 4586 6965 5306 4683 6219 8624 1528 2871 5732 8829 9503 19 8270 3368 9708 6715 6340 8149 7796 723 2618 2245 2846 3451 2921 3555 2379 7488 7764 8228 9841 2350 5193 1500 7034 7764 124'\n",
    "stckprice=[int(i) for i in stock1.split()]\n",
    "print(stckprice)\n",
    "    \n"
   ]
  },
  {
   "cell_type": "code",
   "execution_count": 13,
   "metadata": {},
   "outputs": [],
   "source": [
    "x = range(10,-1)\n",
    "\n",
    "for n in x:\n",
    "  print(n,end=' ')\n"
   ]
  },
  {
   "cell_type": "code",
   "execution_count": 14,
   "metadata": {},
   "outputs": [
    {
     "name": "stdout",
     "output_type": "stream",
     "text": [
      "True\n"
     ]
    }
   ],
   "source": [
    "str1='(1 2) (3 4) (5 6) (7 8) (9 11) (15 16) (17 18) (20 22) (23 24) (25 26) (27 29) (30 31) (33 34) (35 37) (41 43) (44 46) (47 49) (51 53) (54 58) (59 60) (61 62) (64 65) (67 68) (69 71) (72 73) (74 78) (79 80) (81 83)'\n",
    "str2='(1 2) (3 4) (5 6) (7 8) (9 11) (15 16) (17 18) (20 22) (23 24) (25 26) (27 29) (30 31) (33 34) (35 37) (41 43) (44 46) (47 49) (51 53) (54 58) (59 60) (61 62) (64 65) (67 68) (69 71) (72 73) (74 78) (79 80) (81 83)'\n",
    "print(str1==str2)"
   ]
  },
  {
   "cell_type": "code",
   "execution_count": 15,
   "metadata": {},
   "outputs": [
    {
     "name": "stdout",
     "output_type": "stream",
     "text": [
      "dict_items([(1, 9), (3, 4), (5, 6)])\n",
      "[1, 3, 5]\n",
      "[(3, 4), (5, 6), (1, 9)]\n",
      "[(1, 9), (3, 4), (5, 6)]\n"
     ]
    }
   ],
   "source": [
    "#dictionary operation sorting opeeration\n",
    "train={1:2,3:4,5:6,1:9}\n",
    "print(train.items())\n",
    "ttrain=list(train)\n",
    "\n",
    "print(ttrain)\n",
    "ntrain=(sorted(train.items(),key=lambda item:item[1]))\n",
    "print(ntrain)\n",
    "sorttuple=sorted(ntrain,key=lambda x:x[0])\n",
    "print(sorttuple)\n",
    "\n",
    "\n",
    "from operator import itemgetter\n",
    "\n",
    "sd=sorted(train.items(),key=itemgetter(0))\n",
    "\n",
    "\n",
    "\n"
   ]
  },
  {
   "cell_type": "code",
   "execution_count": 16,
   "metadata": {},
   "outputs": [
    {
     "name": "stdout",
     "output_type": "stream",
     "text": [
      "True\n"
     ]
    }
   ],
   "source": [
    "cook=['aa1','aa2','bb1','cc1']\n",
    "print('aa1' in cook)\n"
   ]
  },
  {
   "cell_type": "code",
   "execution_count": 17,
   "metadata": {},
   "outputs": [
    {
     "name": "stdout",
     "output_type": "stream",
     "text": [
      "Sum of the number: 11\n",
      "Execution time: 3.05499997921288e-05\n",
      "Swapping the Number\n",
      "(5, 9)\n",
      "No need to swap\n",
      "(4, 5)\n"
     ]
    }
   ],
   "source": [
    "#decorator\n",
    "import time\n",
    "def swap(func):\n",
    "    def inner_func(a,b):\n",
    "        if a>b:\n",
    "            print(\"Swapping the Number\")\n",
    "            temp=b\n",
    "            b=a\n",
    "            a=temp\n",
    "        else:\n",
    "            print(\"No need to swap\")\n",
    "        returned_value=func(a,b)\n",
    "        return returned_value\n",
    "    return inner_func\n",
    "            \n",
    "def execution_time(func):\n",
    "    def inner_function(a,b):\n",
    "        start=time.perf_counter()\n",
    "        returned_value=func(a,b)\n",
    "        end_time=time.perf_counter()\n",
    "        print(\"Execution time:\",end_time-start)\n",
    "        return returned_value\n",
    "    return inner_function\n",
    "    \n",
    "@execution_time\n",
    "def sum_num(a,b):\n",
    "    print(\"Sum of the number:\",eval('a+b'))\n",
    "\n",
    "@swap\n",
    "def swap_num(a,b):\n",
    "    return a,b\n",
    "if __name__==\"__main__\":\n",
    "    sum_num(5,6)\n",
    "    print(swap_num(9,5))\n",
    "    print(swap_num(4,5))\n",
    "\n",
    "\n",
    "\n"
   ]
  },
  {
   "cell_type": "code",
   "execution_count": 18,
   "metadata": {},
   "outputs": [
    {
     "name": "stdout",
     "output_type": "stream",
     "text": [
      "1 1\n",
      "2 2\n",
      "3 4\n",
      "4 5\n",
      "5 6\n"
     ]
    }
   ],
   "source": [
    "#enumerate \n",
    "a=[1,2,4,5,6]\n",
    "b=enumerate(a,1)\n",
    "for i,value in b:\n",
    "    print(i,value)\n",
    "\n"
   ]
  },
  {
   "cell_type": "code",
   "execution_count": 19,
   "metadata": {},
   "outputs": [
    {
     "name": "stdout",
     "output_type": "stream",
     "text": [
      "<class 'itertools.permutations'>\n",
      "(1, 2, 3)\n",
      "(1, 3, 2)\n",
      "(2, 1, 3)\n",
      "(2, 3, 1)\n",
      "(3, 1, 2)\n",
      "(3, 2, 1)\n"
     ]
    }
   ],
   "source": [
    "from itertools import permutations\n",
    "c=[1,2,3]\n",
    "result=permutations(c)\n",
    "print(type(result))\n",
    "for i in result:\n",
    "    print(i)"
   ]
  },
  {
   "cell_type": "markdown",
   "metadata": {},
   "source": [
    "### lower() for the text sentences"
   ]
  },
  {
   "cell_type": "code",
   "execution_count": null,
   "metadata": {},
   "outputs": [],
   "source": [
    "sent= \"A apple Banana Vivek\"\n",
    "print(sent.lower())"
   ]
  },
  {
   "cell_type": "code",
   "execution_count": null,
   "metadata": {},
   "outputs": [],
   "source": [
    "from itertools import permutations\n",
    "a=\"1234\"\n",
    "str_p=\"abc\"\n",
    "perm=permutations(a)\n",
    "str_perm=permutations(str_p)\n",
    "print([int(''.join(x)) for x in list(perm)])\n",
    "for j in str_perm:\n",
    "    print(\"\".join(j))\n"
   ]
  },
  {
   "cell_type": "code",
   "execution_count": 2,
   "metadata": {},
   "outputs": [
    {
     "name": "stdout",
     "output_type": "stream",
     "text": [
      "4\n",
      "3\n",
      "2\n",
      "1\n",
      "0\n"
     ]
    }
   ],
   "source": [
    "#reverse for loop\n",
    "for i in reversed(range(5)):\n",
    "    print(i)"
   ]
  },
  {
   "cell_type": "code",
   "execution_count": 6,
   "metadata": {},
   "outputs": [
    {
     "name": "stdout",
     "output_type": "stream",
     "text": [
      "True\n",
      "False\n"
     ]
    }
   ],
   "source": [
    "#Access of the list\n",
    "a=[(1,\"a\"),(2,\"m\")]\n",
    "print(1 in a[0])\n",
    "print(1 in a)\n"
   ]
  },
  {
   "cell_type": "code",
   "execution_count": null,
   "metadata": {},
   "outputs": [],
   "source": [
    "#Decorator\n",
    "import datetime\n",
    "def execution_time(a,b):\n",
    "    def func(a,b):\n",
    "        start=datetime.datetime.utcnow()\n",
    "        \n",
    "    \n"
   ]
  },
  {
   "cell_type": "code",
   "execution_count": 1,
   "metadata": {},
   "outputs": [
    {
     "name": "stdout",
     "output_type": "stream",
     "text": [
      "False\n",
      "True\n",
      "3\n",
      "3\n"
     ]
    }
   ],
   "source": [
    "x=7\n",
    "y=3\n",
    "\n",
    "print(x==7|y==3)\n",
    "print(x==7 or y==3)\n",
    "print(x&y)\n",
    "print(x and y)"
   ]
  },
  {
   "cell_type": "code",
   "execution_count": 13,
   "metadata": {},
   "outputs": [
    {
     "name": "stdout",
     "output_type": "stream",
     "text": [
      "1\n",
      "1\n",
      "2\n",
      "4\n",
      "5\n"
     ]
    }
   ],
   "source": [
    "from heapq import heapify,heappush,heappop\n",
    "a=[1,2,4,1,5]\n",
    "heapify(a)\n",
    "for i in range(len(a)):\n",
    "  element = heappop(a)\n",
    "  print(element)  \n",
    "    \n"
   ]
  },
  {
   "cell_type": "code",
   "execution_count": 6,
   "metadata": {},
   "outputs": [
    {
     "ename": "AttributeError",
     "evalue": "'NoneType' object has no attribute 'heappop'",
     "output_type": "error",
     "traceback": [
      "\u001b[0;31m---------------------------------------------------------------------------\u001b[0m",
      "\u001b[0;31mAttributeError\u001b[0m                            Traceback (most recent call last)",
      "Cell \u001b[0;32mIn[6], line 1\u001b[0m\n\u001b[0;32m----> 1\u001b[0m \u001b[38;5;28mprint\u001b[39m(\u001b[43mh\u001b[49m\u001b[38;5;241;43m.\u001b[39;49m\u001b[43mheappop\u001b[49m())\n",
      "\u001b[0;31mAttributeError\u001b[0m: 'NoneType' object has no attribute 'heappop'"
     ]
    }
   ],
   "source": []
  },
  {
   "cell_type": "code",
   "execution_count": null,
   "metadata": {},
   "outputs": [],
   "source": []
  }
 ],
 "metadata": {
  "kernelspec": {
   "display_name": "smart_venv",
   "language": "python",
   "name": "smart_venv"
  },
  "language_info": {
   "codemirror_mode": {
    "name": "ipython",
    "version": 3
   },
   "file_extension": ".py",
   "mimetype": "text/x-python",
   "name": "python",
   "nbconvert_exporter": "python",
   "pygments_lexer": "ipython3",
   "version": "3.11.6"
  }
 },
 "nbformat": 4,
 "nbformat_minor": 4
}
