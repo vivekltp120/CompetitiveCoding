{
 "cells": [
  {
   "cell_type": "code",
   "execution_count": 1,
   "id": "b2a3d6f3-9b14-4b4f-bc62-31b5f8a2422b",
   "metadata": {},
   "outputs": [
    {
     "name": "stdout",
     "output_type": "stream",
     "text": [
      "Skills cloud LaTeX code generated in 'skills_cloud.tex'.\n"
     ]
    }
   ],
   "source": [
    "# Input your skills and proficiency levels\n",
    "skills = {\n",
    "    \"Python\": 90,\n",
    "    \"Data Analysis\": 80,\n",
    "    \"Web Development\": 85,\n",
    "    \"SQL\": 70,\n",
    "    \"Git\": 65,\n",
    "    \"Excel\": 60,\n",
    "    \"JavaScript\": 75,\n",
    "    \"HTML/CSS\": 50,\n",
    "}\n",
    "\n",
    "# Start LaTeX code\n",
    "output = \"\\\\begin{center}\\n\\\\begin{tikzpicture}[scale=1, transform shape]\\n\"\n",
    "\n",
    "# Generate LaTeX nodes dynamically\n",
    "for i, (skill, level) in enumerate(skills.items()):\n",
    "    x = (i % 4) * 3 - 6  # Adjust x-coordinates for layout\n",
    "    y = -((i // 4) * 2)  # Adjust y-coordinates for rows\n",
    "    scale = 1 + level / 100  # Scale size based on proficiency\n",
    "    color = f\"blue!{level}\"  # Dynamic color intensity based on proficiency\n",
    "    output += f\"    \\\\node[scale={scale:.1f}, text={color}] at ({x}, {y}) {{\\\\textbf{{{skill}}}}};\\n\"\n",
    "\n",
    "# End LaTeX code\n",
    "output += \"\\\\end{tikzpicture}\\n\\\\end{center}\"\n",
    "\n",
    "# Save to file\n",
    "with open(\"skills_cloud.tex\", \"w\") as file:\n",
    "    file.write(output)\n",
    "\n",
    "print(\"Skills cloud LaTeX code generated in 'skills_cloud.tex'.\")\n"
   ]
  },
  {
   "cell_type": "code",
   "execution_count": null,
   "id": "1bc4e6aa-9bcf-49a1-9005-4f367d98810f",
   "metadata": {},
   "outputs": [],
   "source": []
  }
 ],
 "metadata": {
  "kernelspec": {
   "display_name": "smart_venv",
   "language": "python",
   "name": "smart_venv"
  },
  "language_info": {
   "codemirror_mode": {
    "name": "ipython",
    "version": 3
   },
   "file_extension": ".py",
   "mimetype": "text/x-python",
   "name": "python",
   "nbconvert_exporter": "python",
   "pygments_lexer": "ipython3",
   "version": "3.11.6"
  }
 },
 "nbformat": 4,
 "nbformat_minor": 5
}
