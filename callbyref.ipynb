{
 "cells": [
  {
   "cell_type": "code",
   "execution_count": null,
   "metadata": {
    "collapsed": true
   },
   "outputs": [],
   "source": [
    "\n",
    "#Mutable object like list directly pass by reference but string can not be \n",
    "# passed by referecne as it is an immutable object \n",
    "a=[1,2,3,4,5,6] #mutable\n",
    "name='vivekkumar'\n",
    "def swap(arr,i,j):\n",
    "    temp=arr[i]\n",
    "    arr[i]=arr[j]\n",
    "    arr[j]=temp\n",
    "    print(arr)\n",
    "\n",
    "swap(a,4,5)\n",
    "name[0]='r'\n",
    "name\n",
    "\n",
    "\n"
   ]
  }
 ],
 "metadata": {
  "kernelspec": {
   "display_name": "Python 2",
   "language": "python",
   "name": "python2"
  },
  "language_info": {
   "codemirror_mode": {
    "name": "ipython",
    "version": 2
   },
   "file_extension": ".py",
   "mimetype": "text/x-python",
   "name": "python",
   "nbconvert_exporter": "python",
   "pygments_lexer": "ipython2",
   "version": "2.7.6"
  }
 },
 "nbformat": 4,
 "nbformat_minor": 0
}
